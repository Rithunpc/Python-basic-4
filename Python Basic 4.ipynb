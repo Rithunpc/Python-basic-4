{
 "cells": [
  {
   "cell_type": "markdown",
   "id": "f0ac4075",
   "metadata": {},
   "source": [
    "List"
   ]
  },
  {
   "cell_type": "markdown",
   "id": "521b3842",
   "metadata": {},
   "source": [
    "Tuple, set and dicitonary are the other collection data type is python.\n",
    "\n",
    "A list is order and changeable.\n",
    "\n",
    "To declare a list we use the square brackets."
   ]
  },
  {
   "cell_type": "code",
   "execution_count": 2,
   "id": "6cb08f1c",
   "metadata": {},
   "outputs": [
    {
     "data": {
      "text/plain": [
       "[15, 25, 10, 30]"
      ]
     },
     "execution_count": 2,
     "metadata": {},
     "output_type": "execute_result"
    }
   ],
   "source": [
    "list = [20,15,25,10,30,5,'pinki','browie']\n",
    "#will get teh value from index 1 until index 5.\n",
    "list[1:5]"
   ]
  },
  {
   "cell_type": "code",
   "execution_count": 3,
   "id": "d72db169",
   "metadata": {},
   "outputs": [
    {
     "data": {
      "text/plain": [
       "[25, 10, 30, 5]"
      ]
     },
     "execution_count": 3,
     "metadata": {},
     "output_type": "execute_result"
    }
   ],
   "source": [
    "list[2:6]"
   ]
  },
  {
   "cell_type": "code",
   "execution_count": 5,
   "id": "370ea55a",
   "metadata": {},
   "outputs": [
    {
     "data": {
      "text/plain": [
       "[30, 5, 'pinki', 'browie']"
      ]
     },
     "execution_count": 5,
     "metadata": {},
     "output_type": "execute_result"
    }
   ],
   "source": [
    "list[4:8]"
   ]
  },
  {
   "cell_type": "code",
   "execution_count": 7,
   "id": "a5176016",
   "metadata": {},
   "outputs": [
    {
     "data": {
      "text/plain": [
       "[20, 15, 25, 10, 30, 5, 'jimmy', 'browie']"
      ]
     },
     "execution_count": 7,
     "metadata": {},
     "output_type": "execute_result"
    }
   ],
   "source": [
    "# will replace the value at the index 6.\n",
    "list[6]='jimmy'\n",
    "list"
   ]
  },
  {
   "cell_type": "code",
   "execution_count": 8,
   "id": "c3f56bad",
   "metadata": {},
   "outputs": [
    {
     "data": {
      "text/plain": [
       "[20, 15, 25, 10, 30, 5, 'jimmy', 'browie', 'blacky']"
      ]
     },
     "execution_count": 8,
     "metadata": {},
     "output_type": "execute_result"
    }
   ],
   "source": [
    "#will add the value at end of the list.\n",
    "list.append('blacky')\n",
    "list"
   ]
  },
  {
   "cell_type": "code",
   "execution_count": 10,
   "id": "0ec20e5a",
   "metadata": {
    "scrolled": false
   },
   "outputs": [
    {
     "data": {
      "text/plain": [
       "[20, 15, 25, 10, 'pekkly', 'pekkly', 30, 5, 'jimmy', 'browie', 'blacky']"
      ]
     },
     "execution_count": 10,
     "metadata": {},
     "output_type": "execute_result"
    }
   ],
   "source": [
    "#will add the value at the index 4.\n",
    "list.insert(4,'pekkly')\n",
    "list"
   ]
  },
  {
   "cell_type": "code",
   "execution_count": 12,
   "id": "ef64d0bc",
   "metadata": {},
   "outputs": [
    {
     "data": {
      "text/plain": [
       "[20,\n",
       " 15,\n",
       " 25,\n",
       " 10,\n",
       " 'pekkly',\n",
       " 'pekkly',\n",
       " 'penki',\n",
       " 30,\n",
       " 5,\n",
       " 'jimmy',\n",
       " 'browie',\n",
       " 'blacky']"
      ]
     },
     "execution_count": 12,
     "metadata": {},
     "output_type": "execute_result"
    }
   ],
   "source": [
    "list.insert(6,'penki')\n",
    "list"
   ]
  },
  {
   "cell_type": "markdown",
   "id": "9885777f",
   "metadata": {},
   "source": [
    "Tuples\n",
    "\n",
    "collection which is unchangeable or immutable.\n",
    "To declare a tuple we use the round bracket"
   ]
  },
  {
   "cell_type": "code",
   "execution_count": null,
   "id": "262020ba",
   "metadata": {},
   "outputs": [],
   "source": [
    "#to count the number of elements"
   ]
  },
  {
   "cell_type": "code",
   "execution_count": null,
   "id": "07013b39",
   "metadata": {},
   "outputs": [],
   "source": [
    "#to find the index"
   ]
  }
 ],
 "metadata": {
  "kernelspec": {
   "display_name": "Python 3 (ipykernel)",
   "language": "python",
   "name": "python3"
  },
  "language_info": {
   "codemirror_mode": {
    "name": "ipython",
    "version": 3
   },
   "file_extension": ".py",
   "mimetype": "text/x-python",
   "name": "python",
   "nbconvert_exporter": "python",
   "pygments_lexer": "ipython3",
   "version": "3.10.9"
  }
 },
 "nbformat": 4,
 "nbformat_minor": 5
}
